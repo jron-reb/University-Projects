{
 "cells": [
  {
   "cell_type": "code",
   "execution_count": 1,
   "id": "a36c8194",
   "metadata": {},
   "outputs": [],
   "source": [
    "%matplotlib inline\n",
    "import numpy as np\n",
    "import pandas as pd\n",
    "import matplotlib.pyplot as plt\n",
    "import seaborn as sns"
   ]
  },
  {
   "cell_type": "code",
   "execution_count": 2,
   "id": "dc8f2008",
   "metadata": {},
   "outputs": [],
   "source": [
    "df= pd.read_csv('stock_exchange_data/indexProcessed.csv')"
   ]
  },
  {
   "cell_type": "markdown",
   "id": "4ff5ae89",
   "metadata": {},
   "source": [
    "Key:\n",
    "NYA (USD) = New York Stock Exchange\n",
    "IXIC (USD) = NASDAQ, US\n",
    "HSI (HKD) = Hong Kong Stock Exchange\n",
    "000001.SS (CNY) = Shanghai SE, China\n",
    "N225 (JPY) = Tokyo SE\n",
    "N100 (EUR) = Euronext, europe\n",
    "399001.SZ (CNY) = Shenzhen SE, China\n",
    "GSPTSE (CAD) = Toronto SE\n",
    "NSEI (INR) = National SE of India\n",
    "GDAXI (EUR) = Frankfurt SE\n",
    "KS11 (KRW) = Korea Exchange\n",
    "SSMI (CHF) = SIX Swiss Exchange\n",
    "TWII (TWD) = Taiwan SE\n",
    "J203.JO (ZAR) = Johannesburg SE\n",
    "\n",
    "Can do either NYSE and NASDAQ and potentiallly Canada\n",
    "or Shenzen and Shanghai/Hong Kong and Taiwan"
   ]
  },
  {
   "cell_type": "code",
   "execution_count": 3,
   "id": "ef4b0396",
   "metadata": {},
   "outputs": [],
   "source": [
    "#df1 = df[df['Position'].str.contains(\"HSI\")]\n",
    "nyse = df[df['Index'].str.contains(\"NYA\")]\n",
    "nasdaq = df[df['Index'].str.contains(\"IXIC\")]\n",
    "toronto = df[df['Index'].str.contains(\"GSPTSE\")]\n",
    "\n",
    "shenzhen = df[df['Index'].str.contains(\"399001.SZ\")]\n",
    "shanghai = df[df['Index'].str.contains(\"000001.SS\")]\n",
    "hongkong = df[df['Index'].str.contains(\"HSI\")]\n",
    "taiwan = df[df['Index'].str.contains(\"TWII\")]"
   ]
  },
  {
   "cell_type": "code",
   "execution_count": 4,
   "id": "8b25f75f",
   "metadata": {},
   "outputs": [],
   "source": [
    "import warnings\n",
    "warnings.simplefilter(action='ignore', category=FutureWarning)"
   ]
  },
  {
   "cell_type": "code",
   "execution_count": 5,
   "id": "7f075376",
   "metadata": {},
   "outputs": [
    {
     "name": "stdout",
     "output_type": "stream",
     "text": [
      "          Index        Date         Open         High          Low  \\\n",
      "0     000001.SS  1997-08-15  1174.182983  1174.881958  1133.890015   \n",
      "1     000001.SS  1997-08-18  1139.605957  1139.605957  1116.147949   \n",
      "2     000001.SS  1997-08-19  1134.616943  1143.201050  1128.109009   \n",
      "3     000001.SS  1997-08-20  1135.050049  1144.645996  1133.741943   \n",
      "4     000001.SS  1997-08-21  1148.386963  1165.218018  1147.816040   \n",
      "...         ...         ...          ...          ...          ...   \n",
      "5755  000001.SS  2021-05-25  3502.540039  3584.580078  3502.439941   \n",
      "5756  000001.SS  2021-05-26  3586.840088  3603.489990  3585.370117   \n",
      "5757  000001.SS  2021-05-27  3585.729980  3626.360107  3579.260010   \n",
      "5758  000001.SS  2021-05-28  3610.770020  3622.179932  3582.360107   \n",
      "5759  000001.SS  2021-05-31  3600.070068  3615.659912  3580.649902   \n",
      "\n",
      "            Close    Adj Close    Volume    CloseUSD  Daily Change  \\\n",
      "0     1143.063965  1143.063965       0.0  182.890234     31.119018   \n",
      "1     1134.634033  1134.634033       0.0  181.541445      4.971924   \n",
      "2     1132.905029  1132.905029       0.0  181.264805      1.711914   \n",
      "3     1144.639038  1144.639038       0.0  183.142246      9.588989   \n",
      "4     1164.545044  1164.545044       0.0  186.327207     16.158081   \n",
      "...           ...          ...       ...         ...           ...   \n",
      "5755  3581.340088  3581.340088  341200.0  573.014414     78.800049   \n",
      "5756  3593.360107  3593.360107  342000.0  574.937617      6.520019   \n",
      "5757  3608.850098  3608.850098  309600.0  577.416016     23.120118   \n",
      "5758  3600.780029  3600.780029  349200.0  576.124805      9.989991   \n",
      "5759  3615.479980  3615.479980  331500.0  578.476797     15.409912   \n",
      "\n",
      "      High Low Difference  \n",
      "0               40.991943  \n",
      "1               23.458008  \n",
      "2               15.092041  \n",
      "3               10.904053  \n",
      "4               17.401978  \n",
      "...                   ...  \n",
      "5755            82.140137  \n",
      "5756            18.119873  \n",
      "5757            47.100097  \n",
      "5758            39.819825  \n",
      "5759            35.010010  \n",
      "\n",
      "[5760 rows x 11 columns]\n"
     ]
    }
   ],
   "source": [
    "modifiedshanghai = pd.read_csv('stock_exchange_data/shanghai.csv')\n",
    "modifiedshenzhen = pd.read_csv('stock_exchange_data/shenzhen.csv')\n",
    "\n",
    "changeshang = []\n",
    "changeshen = []\n",
    "minmaxshang = []\n",
    "minmaxshen = []\n",
    "for index in modifiedshanghai.index:\n",
    "    changeshang.append(abs(modifiedshanghai['Open'][index] - modifiedshanghai['Close'][index]))\n",
    "    minmaxshang.append(modifiedshanghai['High'][index] - modifiedshanghai['Low'][index])\n",
    "for index in modifiedshenzhen.index:\n",
    "    changeshen.append(abs(modifiedshenzhen['Open'][index] - modifiedshenzhen['Close'][index]))\n",
    "    minmaxshen.append(modifiedshenzhen['High'][index] - modifiedshenzhen['Low'][index])\n",
    "modifiedshanghai['Daily Change'] = changeshang\n",
    "modifiedshenzhen['Daily Change'] = changeshen\n",
    "modifiedshanghai['High Low Difference'] = minmaxshang\n",
    "modifiedshenzhen['High Low Difference'] = minmaxshen\n",
    "print(modifiedshanghai)"
   ]
  },
  {
   "cell_type": "code",
   "execution_count": 6,
   "id": "2095f041",
   "metadata": {},
   "outputs": [],
   "source": [
    "from sklearn.linear_model import LinearRegression\n",
    "LinReg = LinearRegression()"
   ]
  },
  {
   "cell_type": "code",
   "execution_count": 7,
   "id": "044799b6",
   "metadata": {},
   "outputs": [
    {
     "data": {
      "text/html": [
       "<div>\n",
       "<style scoped>\n",
       "    .dataframe tbody tr th:only-of-type {\n",
       "        vertical-align: middle;\n",
       "    }\n",
       "\n",
       "    .dataframe tbody tr th {\n",
       "        vertical-align: top;\n",
       "    }\n",
       "\n",
       "    .dataframe thead th {\n",
       "        text-align: right;\n",
       "    }\n",
       "</style>\n",
       "<table border=\"1\" class=\"dataframe\">\n",
       "  <thead>\n",
       "    <tr style=\"text-align: right;\">\n",
       "      <th></th>\n",
       "      <th>Coeff</th>\n",
       "    </tr>\n",
       "  </thead>\n",
       "  <tbody>\n",
       "    <tr>\n",
       "      <th>Adj Close</th>\n",
       "      <td>3.302609</td>\n",
       "    </tr>\n",
       "    <tr>\n",
       "      <th>Open</th>\n",
       "      <td>0.888604</td>\n",
       "    </tr>\n",
       "    <tr>\n",
       "      <th>Daily Change</th>\n",
       "      <td>4.543917</td>\n",
       "    </tr>\n",
       "    <tr>\n",
       "      <th>High Low Difference</th>\n",
       "      <td>-6.725107</td>\n",
       "    </tr>\n",
       "  </tbody>\n",
       "</table>\n",
       "</div>"
      ],
      "text/plain": [
       "                        Coeff\n",
       "Adj Close            3.302609\n",
       "Open                 0.888604\n",
       "Daily Change         4.543917\n",
       "High Low Difference -6.725107"
      ]
     },
     "execution_count": 7,
     "metadata": {},
     "output_type": "execute_result"
    }
   ],
   "source": [
    "from sklearn.model_selection import train_test_split\n",
    "\n",
    "x = modifiedshanghai[['Adj Close','Open','Daily Change', 'High Low Difference']]\n",
    "y = modifiedshenzhen['Adj Close']\n",
    "\n",
    "x_train, x_test, y_train, y_test = train_test_split(x, y, test_size = 0.2)\n",
    "LinReg.fit(x_train, y_train)\n",
    "predictions = LinReg.predict(x_test)\n",
    "pd.DataFrame(LinReg.coef_, x.columns, columns = ['Coeff'])"
   ]
  },
  {
   "cell_type": "code",
   "execution_count": 8,
   "id": "2610500d",
   "metadata": {},
   "outputs": [
    {
     "data": {
      "text/plain": [
       "array([ 3.30260926,  0.88860445,  4.54391739, -6.72510717])"
      ]
     },
     "execution_count": 8,
     "metadata": {},
     "output_type": "execute_result"
    }
   ],
   "source": [
    "LinReg.coef_"
   ]
  },
  {
   "cell_type": "code",
   "execution_count": 9,
   "id": "b0c85ce2",
   "metadata": {},
   "outputs": [
    {
     "data": {
      "text/plain": [
       "(array([  1.,   4.,  24., 105., 283., 265., 125., 159., 145.,  41.]),\n",
       " array([-4551.4126806 , -3773.36999084, -2995.32730108, -2217.28461133,\n",
       "        -1439.24192157,  -661.19923181,   116.84345794,   894.8861477 ,\n",
       "         1672.92883745,  2450.97152721,  3229.01421697]),\n",
       " <BarContainer object of 10 artists>)"
      ]
     },
     "execution_count": 9,
     "metadata": {},
     "output_type": "execute_result"
    },
    {
     "data": {
      "image/png": "[encoded data removed]",
      "text/plain": [
       "<Figure size 432x288 with 1 Axes>"
      ]
     },
     "metadata": {
      "needs_background": "light"
     },
     "output_type": "display_data"
    }
   ],
   "source": [
    "plt.scatter(y_test, predictions)\n",
    "plt.hist(y_test - predictions)"
   ]
  },
  {
   "cell_type": "code",
   "execution_count": 10,
   "id": "5c67f9aa",
   "metadata": {},
   "outputs": [
    {
     "name": "stdout",
     "output_type": "stream",
     "text": [
      "1130.9349810446106\n",
      "1840538.3898015404\n",
      "0.8855226631048344\n",
      "0.8860534750174338\n"
     ]
    }
   ],
   "source": [
    "from sklearn import metrics\n",
    "print(metrics.mean_absolute_error(y_test, predictions))\n",
    "print(metrics.mean_squared_error(y_test, predictions))\n",
    "pred_train = LinReg.score(x_train,y_train)\n",
    "pred_test = LinReg.score(x_test,y_test)\n",
    "print(pred_train)\n",
    "print(pred_test)"
   ]
  },
  {
   "cell_type": "code",
   "execution_count": 11,
   "id": "5cd01403",
   "metadata": {},
   "outputs": [
    {
     "name": "stdout",
     "output_type": "stream",
     "text": [
      "0.8861823454139681\n",
      "0.8854195622996606\n"
     ]
    }
   ],
   "source": [
    "from sklearn import linear_model\n",
    "\n",
    "lasso_reg = linear_model.Lasso(alpha=50, max_iter=100, tol=0.1)\n",
    "lasso_reg.fit(x_train, y_train)\n",
    "print(lasso_reg.score(x_test, y_test))\n",
    "print(lasso_reg.score(x_train, y_train))"
   ]
  },
  {
   "cell_type": "code",
   "execution_count": 12,
   "id": "0fb25c7f",
   "metadata": {},
   "outputs": [
    {
     "data": {
      "text/plain": [
       "array([ 4.16944607,  0.00933083,  3.05501681, -5.57647091])"
      ]
     },
     "execution_count": 12,
     "metadata": {},
     "output_type": "execute_result"
    }
   ],
   "source": [
    "lasso_reg.coef_"
   ]
  },
  {
   "cell_type": "code",
   "execution_count": 14,
   "id": "b1d63dd5",
   "metadata": {},
   "outputs": [
    {
     "name": "stdout",
     "output_type": "stream",
     "text": [
      "0.8860534988583393\n",
      "0.885522663102012\n"
     ]
    }
   ],
   "source": [
    "from sklearn.linear_model import Ridge\n",
    "ridge_reg = Ridge(alpha=50, max_iter=100, tol=0.1)\n",
    "ridge_reg.fit(x_train, y_train)\n",
    "print(ridge_reg.score(x_test, y_test))\n",
    "print(ridge_reg.score(x_train, y_train))"
   ]
  },
  {
   "cell_type": "code",
   "execution_count": 15,
   "id": "fdc6c8e2",
   "metadata": {},
   "outputs": [
    {
     "data": {
      "text/plain": [
       "array([ 3.30259572,  0.88861478,  4.54352266, -6.72477696])"
      ]
     },
     "execution_count": 15,
     "metadata": {},
     "output_type": "execute_result"
    }
   ],
   "source": [
    "ridge_reg.coef_"
   ]
  },
  {
   "cell_type": "code",
   "execution_count": 17,
   "id": "b94adeb8",
   "metadata": {},
   "outputs": [
    {
     "name": "stdout",
     "output_type": "stream",
     "text": [
      "-1248.4845941954025\n",
      "-1250.7858168679038\n",
      "-1250.7861809826138\n"
     ]
    }
   ],
   "source": [
    "x_switch = modifiedshenzhen[['Adj Close','Open','Daily Change', 'High Low Difference']]\n",
    "y_switch = modifiedshanghai['Adj Close']\n",
    "print(lasso_reg.score(x_switch, y_switch))\n",
    "\n",
    "print(ridge_reg.score(x_switch, y_switch))\n",
    "\n",
    "print(LinReg.score(x_switch,y_switch))\n"
   ]
  },
  {
   "cell_type": "code",
   "execution_count": 18,
   "id": "77a92bf8",
   "metadata": {},
   "outputs": [],
   "source": [
    "# to test how the model works when trained on old data\n",
    "oldshanghai = modifiedshanghai.iloc[:-2880]\n",
    "oldshenzhen = modifiedshenzhen.iloc[:-2880]\n",
    "modernshenzhen = modifiedshenzhen.iloc[2880:]\n",
    "\n",
    "x_old = oldshenzhen[['Adj Close','Open','Daily Change', 'High Low Difference']]\n",
    "y_old = oldshanghai['Adj Close']\n",
    "y_modern = modernshenzhen['Adj Close']\n",
    "\n",
    "x_old_train, x_old_test, y_old_train, y_old_test = train_test_split(x_old, y_old, test_size = 0.2)"
   ]
  },
  {
   "cell_type": "code",
   "execution_count": 19,
   "id": "367ae707",
   "metadata": {},
   "outputs": [
    {
     "name": "stdout",
     "output_type": "stream",
     "text": [
      "0.9193964306668667\n",
      "0.9373857138266999\n",
      "-19.195953023842677\n"
     ]
    }
   ],
   "source": [
    "lasso_reg_old = linear_model.Lasso(alpha=50, max_iter=100, tol=0.1)\n",
    "lasso_reg_old.fit(x_old_train, y_old_train)\n",
    "# see how the regression works as intended\n",
    "print(lasso_reg_old.score(x_old_test, y_old_test))\n",
    "print(lasso_reg_old.score(x_old_train, y_old_train))\n",
    "\n",
    "# see how the regression trained on old data works on modern data\n",
    "print(lasso_reg_old.score(x_old, y_modern))"
   ]
  },
  {
   "cell_type": "code",
   "execution_count": 20,
   "id": "45e38702",
   "metadata": {},
   "outputs": [
    {
     "name": "stdout",
     "output_type": "stream",
     "text": [
      "0.9197060205276337\n",
      "0.9387541340817606\n",
      "-19.197326377455212\n"
     ]
    }
   ],
   "source": [
    "# same as above but a ridge regression\n",
    "ridge_reg = Ridge(alpha=50, max_iter=100, tol=0.1)\n",
    "ridge_reg.fit(x_old_train, y_old_train)\n",
    "print(ridge_reg.score(x_old_test, y_old_test))\n",
    "print(ridge_reg.score(x_old_train, y_old_train))\n",
    "\n",
    "print(ridge_reg.score(x_old, y_modern))\n"
   ]
  }
 ],
 "metadata": {
  "kernelspec": {
   "display_name": "Python 3 (ipykernel)",
   "language": "python",
   "name": "python3"
  },
  "language_info": {
   "codemirror_mode": {
    "name": "ipython",
    "version": 3
   },
   "file_extension": ".py",
   "mimetype": "text/x-python",
   "name": "python",
   "nbconvert_exporter": "python",
   "pygments_lexer": "ipython3",
   "version": "3.9.12"
  }
 },
 "nbformat": 4,
 "nbformat_minor": 5
}
