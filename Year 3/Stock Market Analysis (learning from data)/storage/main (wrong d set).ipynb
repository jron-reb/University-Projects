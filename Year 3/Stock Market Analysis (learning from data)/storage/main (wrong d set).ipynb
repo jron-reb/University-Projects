{
 "cells": [
  {
   "cell_type": "code",
   "execution_count": 1,
   "id": "8ba9978b",
   "metadata": {},
   "outputs": [],
   "source": [
    "%matplotlib inline\n",
    "import numpy as np\n",
    "import pandas as pd\n",
    "import matplotlib.pyplot as plt\n",
    "import seaborn as sns"
   ]
  },
  {
   "cell_type": "code",
   "execution_count": 2,
   "id": "db63a69a",
   "metadata": {},
   "outputs": [],
   "source": [
    "dataunclean = pd.read_csv('AT_T_Stock_price.csv')\n",
    "#the data has been pre-processed to remove all the null values and the CloseUSD\n",
    "#having the values in USD either helps or hinder the thingies"
   ]
  },
  {
   "cell_type": "code",
   "execution_count": 3,
   "id": "64537c7e",
   "metadata": {},
   "outputs": [],
   "source": [
    "dataunclean['DATE'] = pd.to_datetime(dataunclean['DATE'],format='%Y%m%d')\n",
    "\n",
    "# get rid of the unnecessary columns\n",
    "for column in dataunclean.columns:\n",
    "    if dataunclean[column].nunique() < 50:\n",
    "        del dataunclean[column]\n",
    "        \n",
    "# here get rid of the null values in the bid column\n",
    "indexes_removed = []\n",
    "for n in range (len(dataunclean)):\n",
    "    if pd.isnull(dataunclean['BID'][n]):\n",
    "        indexes_removed.append(n)\n",
    "        dataunclean = dataunclean.drop(n)\n",
    "\n",
    "\n",
    "\n",
    "        #num_unique = organised[col].nunique()\n",
    "    #dropna = True\n",
    "#naics means like the type of business that it is (speccifically theeir primary business activity)\n",
    "#essentially the information being discarded is either identifying information or something that changes once and is to do with identifying the company and what they do and is therefroe useless for analysis"
   ]
  },
  {
   "cell_type": "code",
   "execution_count": 11,
   "id": "e4db8f80",
   "metadata": {},
   "outputs": [
    {
     "name": "stdout",
     "output_type": "stream",
     "text": [
      "DATE\n",
      "PRC\n",
      "VOL\n",
      "OPENPRC\n",
      "ASKHI\n",
      "BIDLO\n",
      "BID\n",
      "         DATE      PRC       VOL  OPENPRC    ASKHI    BIDLO      BID\n",
      "3  2000-01-06  43.7500   7154299  44.5625  45.0000  43.1250  43.5000\n",
      "4  2000-01-07  44.1250   5883699  44.5625  44.7500  43.3750  43.7500\n",
      "5  2000-01-10  44.7500   7118699  44.7500  45.0000  44.2500  44.0000\n",
      "6  2000-01-11  44.1250   6472799  44.6875  44.9375  43.8125  43.7500\n",
      "7  2000-01-12  41.8125   8920000  43.5000  43.5625  41.5000  41.6250\n",
      "8  2000-01-13  40.8125   8250000  42.3750  42.9375  40.7500  40.5000\n",
      "9  2000-01-14  41.9375   9888199  41.2500  41.9375  40.0000  41.6250\n",
      "10 2000-01-18  41.1250   9824500  42.1250  43.0625  40.8750  40.8750\n",
      "11 2000-01-19  40.5625  10212299  41.0000  41.0000  40.0000  40.6250\n",
      "12 2000-01-20  41.0000  10060399  40.8125  41.5625  40.0625  40.5000\n",
      "13 2000-01-21  43.0000  15950299  42.8750  43.3750  42.0000  42.5000\n",
      "14 2000-01-24  42.0000   9980399  43.4375  43.5000  40.9375  41.0000\n",
      "15 2000-01-25  39.8750  15942500  41.0000  41.1250  38.5625  39.5000\n",
      "16 2000-01-26  40.0000   7662099  40.5000  40.5000  39.6875  39.7500\n",
      "17 2000-01-27  39.6250   6920000  40.0625  40.3125  39.3750  39.3750\n",
      "18 2000-01-28  39.2500   8650599  39.3125  40.4375  39.0000  39.1250\n",
      "19 2000-01-31  42.8750  11162601  39.5000  43.5000  39.0625  42.7500\n",
      "20 2000-02-01  42.3750   8949599  43.0000  43.0000  41.7500  42.1250\n",
      "21 2000-02-02  42.5000   6675099  43.0000  43.1250  42.5000  42.4375\n",
      "22 2000-02-03  42.0000   7705799  43.0000  43.1875  41.3125  41.9375\n",
      "23 2000-02-04  42.0000   6773000  42.0000  42.3750  41.5625  41.5625\n",
      "24 2000-02-07  41.8750   5804500  41.3750  42.3125  41.0625  41.8750\n",
      "25 2000-02-08  42.0625   5671199  42.5000  43.0000  42.0000  42.0000\n",
      "26 2000-02-09  42.6250   6809500  42.3125  42.8125  42.0000  42.0000\n",
      "27 2000-02-10  42.1250   5151199  42.3750  42.4375  41.9375  41.5000\n",
      "28 2000-02-11  40.1875   5575299  42.0000  42.0625  39.7500  40.0000\n",
      "29 2000-02-14  40.8750   8459099  39.5000  41.5000  39.4375  40.8750\n",
      "30 2000-02-15  40.5000   8190899  40.0000  40.7500  39.5625  40.3750\n",
      "31 2000-02-16  39.0625   8475099  40.3750  40.6875  38.7500  38.8750\n",
      "32 2000-02-17  38.3750   9273399  38.9375  39.3125  38.0000  38.3125\n",
      "34 2000-02-22  36.2500  14055000  37.2500  37.3125  35.5625  36.3125\n",
      "35 2000-02-23  35.2500  12874099  36.0000  36.5000  34.8125  35.0000\n"
     ]
    }
   ],
   "source": [
    "#DOING THIS\n",
    "data = pd.DataFrame()\n",
    "data['DATE'] = dataunclean['DATE']\n",
    "data['PRC'] = dataunclean['PRC']\n",
    "data['VOL'] = dataunclean['VOL']\n",
    "data['OPENPRC'] = dataunclean['OPENPRC']\n",
    "data['ASKHI'] = dataunclean['ASKHI']\n",
    "data['BIDLO'] = dataunclean['BIDLO']\n",
    "data['BID'] = dataunclean['BID']\n",
    "for column in dataunclean.columns:\n",
    "    print(column)\n",
    "# for index in range(len(data)):\n",
    "#     if index in indexes_removed:\n",
    "#         difference.append('')\n",
    "#     else:\n",
    "#         difference.append(data[\"OPENPRC\"][index] - data['PRC'][index])\n",
    "# data['Difference'] = difference\n",
    "print(data[3:35])"
   ]
  },
  {
   "cell_type": "code",
   "execution_count": null,
   "id": "7d1fd9e8",
   "metadata": {},
   "outputs": [],
   "source": [
    "print(data)\n",
    "#price, volume, open price, ask or high, bid or low and  closing bid\n",
    "#price is the priec at closing\n",
    "#askhi is the highest pric or the highest price during the day\n",
    "#bidlow is the lowest bid or price sold during the day\n",
    "#the BID is the last bid of the day, indicative of the price valued at the end of the day,\n",
    "#or what the price will be the next day"
   ]
  },
  {
   "cell_type": "markdown",
   "id": "8830f5a4",
   "metadata": {},
   "source": [
    "#turn date into the date, definitely an object or function for this\n",
    "#closing price\n",
    "#volume traded that day\n",
    "#the price at opening (happens because trades are placed after hours that happen as soon as/before the market opens\n",
    "#probably worth double checking the exact specifics of this)\n",
    "#the askhi which is the highest price asked for/sold for\n",
    "#the bidlo is the lowest price bid for/bought for\n",
    "#bid is the last bid of the day and probably slightly irrelevant"
   ]
  },
  {
   "cell_type": "code",
   "execution_count": null,
   "id": "d519d708",
   "metadata": {},
   "outputs": [],
   "source": [
    "data.plot(kind = 'scatter', x='DATE', y = 'PRC', color = 'red')\n",
    "plt.title('Scatter plot of the price over time')\n",
    "plt.show()\n",
    "\n",
    "data.plot(kind = 'scatter', x='DATE', y = 'VOL', color = 'blue')\n",
    "plt.title('Scatter plot of the volume over time')\n",
    "plt.show()\n",
    "\n",
    "data.plot(kind = 'scatter', x='DATE', y = 'OPENPRC', color = 'yellow')\n",
    "plt.title('Scatter plot of the opening price over time')\n",
    "plt.show()\n",
    "\n",
    "data.plot(kind = 'scatter', x='DATE', y = 'ASKHI', color = 'green')\n",
    "plt.title('Scatter plot of the asking high over time')\n",
    "plt.show()\n",
    "\n",
    "data.plot(kind = 'scatter', x='DATE', y = 'BIDLO', color = 'orange')\n",
    "plt.title('Scatter plot of the BIDLO over time')\n",
    "plt.show()\n",
    "\n",
    "data.plot(kind = 'scatter', x='DATE', y = 'BID', color = 'black')\n",
    "plt.title('Scatter plot of the closing bid over time')\n",
    "plt.show()"
   ]
  },
  {
   "cell_type": "code",
   "execution_count": null,
   "id": "e2aa312c",
   "metadata": {},
   "outputs": [],
   "source": [
    "# #add x-axis label\n",
    "# ax.set_xlabel('Year', fontsize=14)\n",
    "\n",
    "# #add y-axis label\n",
    "# ax.set_ylabel('Sales', color=col1, fontsize=16)\n",
    "\n",
    "#define subplots\n",
    "fig,ax = plt.subplots()\n",
    "\n",
    "#add first line to plot\n",
    "ax.plot(data['DATE'], data['PRC'], color='r')\n",
    "\n",
    "#define second y-axis that shares x-axis with current plot\n",
    "ax2 = ax.twinx()\n",
    "\n",
    "#add second line to plot\n",
    "ax2.plot(data['DATE'], data['VOL'], color='black')"
   ]
  },
  {
   "cell_type": "code",
   "execution_count": null,
   "id": "a1ae7047",
   "metadata": {},
   "outputs": [],
   "source": [
    "print(data[\"VOL\"].corr(data[\"PRC\"]))\n",
    "print(data[\"VOL\"].corr(data[\"OPENPRC\"]))\n",
    "print(data[\"VOL\"].corr(data[\"ASKHI\"]))\n",
    "print(data[\"VOL\"].corr(data[\"BIDLO\"]))\n",
    "print(data[\"VOL\"].corr(data[\"BID\"]))\n",
    "\n",
    "print(data[\"OPENPRC\"].corr(data[\"PRC\"]))\n",
    "print(data[\"OPENPRC\"].corr(data[\"ASKHI\"]))\n",
    "print(data[\"OPENPRC\"].corr(data[\"BIDLO\"]))\n",
    "print(data[\"OPENPRC\"].corr(data[\"BID\"]))\n",
    "\n",
    "print(data[\"ASKHI\"].corr(data[\"BIDLO\"]))\n",
    "print(data[\"ASKHI\"].corr(data[\"BID\"]))\n",
    "\n",
    "print(data[\"ASKHI\"].corr(data[\"BID\"]))\n",
    "#vol,prc,openhi,openlo\n",
    "\n"
   ]
  },
  {
   "cell_type": "code",
   "execution_count": null,
   "id": "3feffe7a",
   "metadata": {},
   "outputs": [],
   "source": [
    "difference = []\n",
    "\n",
    "for index in range(len(data)):\n",
    "    difference.append(data[\"OPENPRC\"][index] - data['PRC'][index])\n",
    "#     new_array = np.append(my_array, [[10], [13]], axis=1)\n",
    "\n",
    "# address = ['Delhi', 'Bangalore', 'Chennai', 'Patna']\n",
    "  \n",
    "# # Using 'Address' as the column name\n",
    "# # and equating it to the list\n",
    "# df['Address'] = address"
   ]
  },
  {
   "cell_type": "code",
   "execution_count": null,
   "id": "5725d0c8",
   "metadata": {},
   "outputs": [],
   "source": [
    "difference = []\n",
    "for index in range(len(data)):\n",
    "    if index in indexes_removed:\n",
    "        difference.append('')\n",
    "    else:\n",
    "        difference.append(data[\"OPENPRC\"][index] - data['PRC'][index])\n",
    "data['Difference'] = difference\n",
    "print (difference[31])\n",
    "print (difference[32])\n",
    "print (difference[33])\n",
    "print (difference[34])\n",
    "print (data)\n",
    "print (data['Difference'])"
   ]
  },
  {
   "cell_type": "code",
   "execution_count": null,
   "id": "e02e83c5",
   "metadata": {},
   "outputs": [],
   "source": [
    "# print(data['Difference'].corr(data[\"PRC\"]))\n",
    "# print(data['Difference'].corr(data[\"OPENPRC\"]))\n",
    "# print(data['Difference'].corr(data[\"ASKHI\"]))\n",
    "# print(data['Difference'].corr(data[\"BIDLO\"]))\n",
    "# print(data['Difference'].corr(data[\"BID\"]))\n",
    "# print(data['Difference'].corr(data[\"VOL\"]))\n",
    "# print(type(data['Difference'][33]))\n",
    "# print(type(data['VOL'][0]))\n",
    "# print(type(data['OPENPRC'][0]))\n",
    "print(data['Difference'][33])\n",
    "print (data[30:35])\n",
    "# dtype('float64'), dtype('<U1')"
   ]
  }
 ],
 "metadata": {
  "kernelspec": {
   "display_name": "Python 3 (ipykernel)",
   "language": "python",
   "name": "python3"
  },
  "language_info": {
   "codemirror_mode": {
    "name": "ipython",
    "version": 3
   },
   "file_extension": ".py",
   "mimetype": "text/x-python",
   "name": "python",
   "nbconvert_exporter": "python",
   "pygments_lexer": "ipython3",
   "version": "3.9.12"
  }
 },
 "nbformat": 4,
 "nbformat_minor": 5
}
