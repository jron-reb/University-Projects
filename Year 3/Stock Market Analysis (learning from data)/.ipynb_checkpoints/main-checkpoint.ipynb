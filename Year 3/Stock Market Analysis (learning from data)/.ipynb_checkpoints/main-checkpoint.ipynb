{
 "cells": [
  {
   "cell_type": "code",
   "execution_count": 1,
   "id": "a36c8194",
   "metadata": {},
   "outputs": [],
   "source": [
    "%matplotlib inline\n",
    "import numpy as np\n",
    "import pandas as pd\n",
    "import matplotlib.pyplot as plt\n",
    "import seaborn as sns"
   ]
  },
  {
   "cell_type": "code",
   "execution_count": 2,
   "id": "dc8f2008",
   "metadata": {},
   "outputs": [],
   "source": [
    "df= pd.read_csv('stock_exchange_data/indexProcessed.csv')"
   ]
  },
  {
   "cell_type": "markdown",
   "id": "4ff5ae89",
   "metadata": {},
   "source": [
    "Key:\n",
    "NYA (USD) = New York Stock Exchange\n",
    "IXIC (USD) = NASDAQ, US\n",
    "HSI (HKD) = Hong Kong Stock Exchange\n",
    "000001.SS (CNY) = Shanghai SE, China\n",
    "N225 (JPY) = Tokyo SE\n",
    "N100 (EUR) = Euronext, europe\n",
    "399001.SZ (CNY) = Shenzhen SE, China\n",
    "GSPTSE (CAD) = Toronto SE\n",
    "NSEI (INR) = National SE of India\n",
    "GDAXI (EUR) = Frankfurt SE\n",
    "KS11 (KRW) = Korea Exchange\n",
    "SSMI (CHF) = SIX Swiss Exchange\n",
    "TWII (TWD) = Taiwan SE\n",
    "J203.JO (ZAR) = Johannesburg SE\n",
    "\n",
    "Can do either NYSE and NASDAQ and potentiallly Canada\n",
    "or Shenzen and Shanghai/Hong Kong and Taiwan"
   ]
  },
  {
   "cell_type": "code",
   "execution_count": 3,
   "id": "ef4b0396",
   "metadata": {},
   "outputs": [],
   "source": [
    "#df1 = df[df['Position'].str.contains(\"HSI\")]\n",
    "nyse = df[df['Index'].str.contains(\"NYA\")]\n",
    "nasdaq = df[df['Index'].str.contains(\"IXIC\")]\n",
    "toronto = df[df['Index'].str.contains(\"GSPTSE\")]\n",
    "\n",
    "shenzhen = df[df['Index'].str.contains(\"399001.SZ\")]\n",
    "shanghai = df[df['Index'].str.contains(\"000001.SS\")]\n",
    "hongkong = df[df['Index'].str.contains(\"HSI\")]\n",
    "taiwan = df[df['Index'].str.contains(\"TWII\")]"
   ]
  },
  {
   "cell_type": "code",
   "execution_count": 5,
   "id": "8b25f75f",
   "metadata": {},
   "outputs": [],
   "source": [
    "import warnings\n",
    "warnings.simplefilter(action='ignore', category=FutureWarning)"
   ]
  },
  {
   "cell_type": "code",
   "execution_count": 125,
   "id": "7f075376",
   "metadata": {},
   "outputs": [
    {
     "name": "stdout",
     "output_type": "stream",
     "text": [
      "          Index        Date         Open         High          Low  \\\n",
      "0     000001.SS  1997-08-15  1174.182983  1174.881958  1133.890015   \n",
      "1     000001.SS  1997-08-18  1139.605957  1139.605957  1116.147949   \n",
      "2     000001.SS  1997-08-19  1134.616943  1143.201050  1128.109009   \n",
      "3     000001.SS  1997-08-20  1135.050049  1144.645996  1133.741943   \n",
      "4     000001.SS  1997-08-21  1148.386963  1165.218018  1147.816040   \n",
      "...         ...         ...          ...          ...          ...   \n",
      "5755  000001.SS  2021-05-25  3502.540039  3584.580078  3502.439941   \n",
      "5756  000001.SS  2021-05-26  3586.840088  3603.489990  3585.370117   \n",
      "5757  000001.SS  2021-05-27  3585.729980  3626.360107  3579.260010   \n",
      "5758  000001.SS  2021-05-28  3610.770020  3622.179932  3582.360107   \n",
      "5759  000001.SS  2021-05-31  3600.070068  3615.659912  3580.649902   \n",
      "\n",
      "            Close    Adj Close    Volume    CloseUSD  Daily Change  \\\n",
      "0     1143.063965  1143.063965       0.0  182.890234     31.119018   \n",
      "1     1134.634033  1134.634033       0.0  181.541445      4.971924   \n",
      "2     1132.905029  1132.905029       0.0  181.264805      1.711914   \n",
      "3     1144.639038  1144.639038       0.0  183.142246      9.588989   \n",
      "4     1164.545044  1164.545044       0.0  186.327207     16.158081   \n",
      "...           ...          ...       ...         ...           ...   \n",
      "5755  3581.340088  3581.340088  341200.0  573.014414     78.800049   \n",
      "5756  3593.360107  3593.360107  342000.0  574.937617      6.520019   \n",
      "5757  3608.850098  3608.850098  309600.0  577.416016     23.120118   \n",
      "5758  3600.780029  3600.780029  349200.0  576.124805      9.989991   \n",
      "5759  3615.479980  3615.479980  331500.0  578.476797     15.409912   \n",
      "\n",
      "      High Low Difference  \n",
      "0               40.991943  \n",
      "1               23.458008  \n",
      "2               15.092041  \n",
      "3               10.904053  \n",
      "4               17.401978  \n",
      "...                   ...  \n",
      "5755            82.140137  \n",
      "5756            18.119873  \n",
      "5757            47.100097  \n",
      "5758            39.819825  \n",
      "5759            35.010010  \n",
      "\n",
      "[5760 rows x 11 columns]\n"
     ]
    }
   ],
   "source": [
    "modifiedshanghai = pd.read_csv('stock_exchange_data/shanghai.csv')\n",
    "modifiedshenzhen = pd.read_csv('stock_exchange_data/shenzhen.csv')\n",
    "\n",
    "changeshang = []\n",
    "changeshen = []\n",
    "minmaxshang = []\n",
    "minmaxshen = []\n",
    "for index in modifiedshanghai.index:\n",
    "    changeshang.append(abs(modifiedshanghai['Open'][index] - modifiedshanghai['Close'][index]))\n",
    "    minmaxshang.append(modifiedshanghai['High'][index] - modifiedshanghai['Low'][index])\n",
    "for index in modifiedshenzhen.index:\n",
    "    changeshen.append(abs(modifiedshenzhen['Open'][index] - modifiedshenzhen['Close'][index]))\n",
    "    minmaxshen.append(modifiedshenzhen['High'][index] - modifiedshenzhen['Low'][index])\n",
    "modifiedshanghai['Daily Change'] = changeshang\n",
    "modifiedshenzhen['Daily Change'] = changeshen\n",
    "modifiedshanghai['High Low Difference'] = minmaxshang\n",
    "modifiedshenzhen['High Low Difference'] = minmaxshen\n",
    "print(modifiedshanghai)"
   ]
  },
  {
   "cell_type": "code",
   "execution_count": 130,
   "id": "293f1192",
   "metadata": {},
   "outputs": [
    {
     "name": "stdout",
     "output_type": "stream",
     "text": [
      "          Index        Date         Open         High          Low  \\\n",
      "0     000001.SS  1997-08-15  1174.182983  1174.881958  1133.890015   \n",
      "1     000001.SS  1997-08-18  1139.605957  1139.605957  1116.147949   \n",
      "2     000001.SS  1997-08-19  1134.616943  1143.201050  1128.109009   \n",
      "3     000001.SS  1997-08-20  1135.050049  1144.645996  1133.741943   \n",
      "4     000001.SS  1997-08-21  1148.386963  1165.218018  1147.816040   \n",
      "...         ...         ...          ...          ...          ...   \n",
      "2875  000001.SS  2009-07-13  3098.956055  3112.875000  3076.302002   \n",
      "2876  000001.SS  2009-07-14  3088.580078  3147.592041  3088.580078   \n",
      "2877  000001.SS  2009-07-15  3156.625000  3188.909912  3156.625000   \n",
      "2878  000001.SS  2009-07-16  3209.774902  3221.068115  3175.957031   \n",
      "2879  000001.SS  2009-07-17  3181.062988  3197.230957  3158.565918   \n",
      "\n",
      "            Close    Adj Close    Volume    CloseUSD  Daily Change  \\\n",
      "0     1143.063965  1143.063965       0.0  182.890234     31.119018   \n",
      "1     1134.634033  1134.634033       0.0  181.541445      4.971924   \n",
      "2     1132.905029  1132.905029       0.0  181.264805      1.711914   \n",
      "3     1144.639038  1144.639038       0.0  183.142246      9.588989   \n",
      "4     1164.545044  1164.545044       0.0  186.327207     16.158081   \n",
      "...           ...          ...       ...         ...           ...   \n",
      "2875  3080.555908  3080.555908  156600.0  492.888945     18.400147   \n",
      "2876  3145.156982  3145.156982  161600.0  503.225117     56.576904   \n",
      "2877  3188.551025  3188.551025  196000.0  510.168164     31.926025   \n",
      "2878  3183.741943  3183.741943  191200.0  509.398711     26.032959   \n",
      "2879  3189.740967  3189.740967  164600.0  510.358555      8.677979   \n",
      "\n",
      "      High Low Difference  \n",
      "0               40.991943  \n",
      "1               23.458008  \n",
      "2               15.092041  \n",
      "3               10.904053  \n",
      "4               17.401978  \n",
      "...                   ...  \n",
      "2875            36.572998  \n",
      "2876            59.011963  \n",
      "2877            32.284912  \n",
      "2878            45.111084  \n",
      "2879            38.665039  \n",
      "\n",
      "[2880 rows x 11 columns]\n",
      "          Index        Date         Open         High          Low  \\\n",
      "2880  399001.SZ  2009-07-22  13113.66016  13378.91016  13111.83008   \n",
      "2881  399001.SZ  2009-07-23  13374.75000  13528.54004  13326.75000   \n",
      "2882  399001.SZ  2009-07-24  13602.24023  13660.28027  13276.20020   \n",
      "2883  399001.SZ  2009-07-27  13599.66016  13751.74023  13465.71973   \n",
      "2884  399001.SZ  2009-07-28  13785.84961  13881.13965  13634.79004   \n",
      "...         ...         ...          ...          ...          ...   \n",
      "5755  399001.SZ  2021-05-27  14796.04981  14955.29981  14720.66992   \n",
      "5756  399001.SZ  2021-05-28  14899.33008  14977.25000  14778.82031   \n",
      "5757  399001.SZ  2021-05-31  14874.88965  14996.37988  14836.15039   \n",
      "5758  399001.SZ  2021-06-01  14963.95020  15039.01953  14820.74023   \n",
      "5759  399001.SZ  2021-06-02  15044.94043  15051.20996  14793.74023   \n",
      "\n",
      "            Close    Adj Close     Volume     CloseUSD  Daily Change  \\\n",
      "2880  13353.20996  13353.06055   119800.0  2136.513594     239.54980   \n",
      "2881  13521.65039  13521.49902   140600.0  2163.464062     146.90039   \n",
      "2882  13531.71973  13531.56738   136700.0  2165.075157      70.52050   \n",
      "2883  13743.40039  13743.24707   150000.0  2198.944062     143.74023   \n",
      "2884  13836.66016  13836.50488   199100.0  2213.865626      50.81055   \n",
      "...           ...          ...        ...          ...           ...   \n",
      "5755  14897.19043  14897.19043  1502100.0  2383.550469     101.14062   \n",
      "5756  14852.87988  14852.87988  1651600.0  2376.460781      46.45020   \n",
      "5757  14996.37988  14996.37988  1460400.0  2399.420781     121.49023   \n",
      "5758  15034.78027  15034.78027  1515600.0  2405.564843      70.83007   \n",
      "5759  14857.91016  14857.91016  1470800.0  2377.265626     187.03027   \n",
      "\n",
      "      High Low Difference  \n",
      "2880            267.08008  \n",
      "2881            201.79004  \n",
      "2882            384.08007  \n",
      "2883            286.02050  \n",
      "2884            246.34961  \n",
      "...                   ...  \n",
      "5755            234.62989  \n",
      "5756            198.42969  \n",
      "5757            160.22949  \n",
      "5758            218.27930  \n",
      "5759            257.46973  \n",
      "\n",
      "[2880 rows x 11 columns]\n"
     ]
    }
   ],
   "source": [
    "\n"
   ]
  },
  {
   "cell_type": "code",
   "execution_count": 14,
   "id": "2095f041",
   "metadata": {},
   "outputs": [],
   "source": [
    "from sklearn.linear_model import LinearRegression\n",
    "LinReg = LinearRegression()"
   ]
  },
  {
   "cell_type": "code",
   "execution_count": 96,
   "id": "044799b6",
   "metadata": {},
   "outputs": [
    {
     "data": {
      "text/html": [
       "<div>\n",
       "<style scoped>\n",
       "    .dataframe tbody tr th:only-of-type {\n",
       "        vertical-align: middle;\n",
       "    }\n",
       "\n",
       "    .dataframe tbody tr th {\n",
       "        vertical-align: top;\n",
       "    }\n",
       "\n",
       "    .dataframe thead th {\n",
       "        text-align: right;\n",
       "    }\n",
       "</style>\n",
       "<table border=\"1\" class=\"dataframe\">\n",
       "  <thead>\n",
       "    <tr style=\"text-align: right;\">\n",
       "      <th></th>\n",
       "      <th>Coeff</th>\n",
       "    </tr>\n",
       "  </thead>\n",
       "  <tbody>\n",
       "    <tr>\n",
       "      <th>Adj Close</th>\n",
       "      <td>3.327985</td>\n",
       "    </tr>\n",
       "    <tr>\n",
       "      <th>Open</th>\n",
       "      <td>0.871154</td>\n",
       "    </tr>\n",
       "    <tr>\n",
       "      <th>Daily Change</th>\n",
       "      <td>3.883290</td>\n",
       "    </tr>\n",
       "    <tr>\n",
       "      <th>High Low Difference</th>\n",
       "      <td>-6.453548</td>\n",
       "    </tr>\n",
       "  </tbody>\n",
       "</table>\n",
       "</div>"
      ],
      "text/plain": [
       "                        Coeff\n",
       "Adj Close            3.327985\n",
       "Open                 0.871154\n",
       "Daily Change         3.883290\n",
       "High Low Difference -6.453548"
      ]
     },
     "execution_count": 96,
     "metadata": {},
     "output_type": "execute_result"
    }
   ],
   "source": [
    "from sklearn.model_selection import train_test_split\n",
    "\n",
    "x = modifiedshanghai[['Adj Close','Open','Daily Change', 'High Low Difference']]\n",
    "y = modifiedshenzhen['Adj Close']\n",
    "\n",
    "x_train, x_test, y_train, y_test = train_test_split(x, y, test_size = 0.2)\n",
    "LinReg.fit(x_train, y_train)\n",
    "predictions = LinReg.predict(x_test)\n",
    "pd.DataFrame(LinReg.coef_, x.columns, columns = ['Coeff'])"
   ]
  },
  {
   "cell_type": "code",
   "execution_count": 121,
   "id": "85aa4893",
   "metadata": {},
   "outputs": [
    {
     "data": {
      "text/plain": [
       "array([ 3.3279849 ,  0.87115422,  3.88328968, -6.45354838])"
      ]
     },
     "execution_count": 121,
     "metadata": {},
     "output_type": "execute_result"
    }
   ],
   "source": [
    "LinReg.coef_"
   ]
  },
  {
   "cell_type": "code",
   "execution_count": 79,
   "id": "b0c85ce2",
   "metadata": {},
   "outputs": [
    {
     "data": {
      "text/plain": [
       "(array([  6.,  40., 119., 261., 218., 152., 119., 125.,  90.,  22.]),\n",
       " array([-3425.83630669, -2746.6346311 , -2067.4329555 , -1388.23127991,\n",
       "         -709.02960431,   -29.82792872,   649.37374688,  1328.57542247,\n",
       "         2007.77709807,  2686.97877366,  3366.18044926]),\n",
       " <BarContainer object of 10 artists>)"
      ]
     },
     "execution_count": 79,
     "metadata": {},
     "output_type": "execute_result"
    },
    {
     "data": {
      "image/png": "[encoded data removed]",
      "text/plain": [
       "<Figure size 432x288 with 1 Axes>"
      ]
     },
     "metadata": {
      "needs_background": "light"
     },
     "output_type": "display_data"
    }
   ],
   "source": [
    "plt.scatter(y_test, predictions)\n",
    "plt.hist(y_test - predictions)"
   ]
  },
  {
   "cell_type": "code",
   "execution_count": 84,
   "id": "5c67f9aa",
   "metadata": {},
   "outputs": [
    {
     "name": "stdout",
     "output_type": "stream",
     "text": [
      "1134.5296476814183\n",
      "1827797.6487800707\n",
      "0.886166429164222\n",
      "0.8838614694193667\n"
     ]
    }
   ],
   "source": [
    "from sklearn import metrics\n",
    "print(metrics.mean_absolute_error(y_test, predictions))\n",
    "print(metrics.mean_squared_error(y_test, predictions))\n",
    "pred_train = LinReg.score(x_train,y_train)\n",
    "pred_test = LinReg.score(x_test,y_test)\n",
    "print(pred_train)\n",
    "print(pred_test)"
   ]
  },
  {
   "cell_type": "code",
   "execution_count": 102,
   "id": "f86a624b",
   "metadata": {},
   "outputs": [
    {
     "name": "stdout",
     "output_type": "stream",
     "text": [
      "0.8825892365558479\n",
      "0.8863478748329493\n"
     ]
    }
   ],
   "source": [
    "from sklearn import linear_model\n",
    "\n",
    "lasso_reg = linear_model.Lasso(alpha=50, max_iter=100, tol=0.1)\n",
    "lasso_reg.fit(x_train, y_train)\n",
    "print(lasso_reg.score(x_test, y_test))\n",
    "print(lasso_reg.score(x_train, y_train))"
   ]
  },
  {
   "cell_type": "code",
   "execution_count": 122,
   "id": "e182a758",
   "metadata": {},
   "outputs": [
    {
     "data": {
      "text/plain": [
       "array([ 4.17549216,  0.00927503,  2.28712605, -5.1500755 ])"
      ]
     },
     "execution_count": 122,
     "metadata": {},
     "output_type": "execute_result"
    }
   ],
   "source": [
    "lasso_reg.coef_"
   ]
  },
  {
   "cell_type": "code",
   "execution_count": 90,
   "id": "ab143f95",
   "metadata": {},
   "outputs": [
    {
     "name": "stdout",
     "output_type": "stream",
     "text": [
      "0.8838614726374479\n",
      "0.8861664291618059\n"
     ]
    }
   ],
   "source": [
    "ridge_reg = Ridge(alpha=50, max_iter=100, tol=0.1)\n",
    "ridge_reg.fit(x_train, y_train)\n",
    "print(ridge_reg.score(x_test, y_test))\n",
    "print(ridge_reg.score(x_train, y_train))"
   ]
  },
  {
   "cell_type": "code",
   "execution_count": 123,
   "id": "0dd468b1",
   "metadata": {},
   "outputs": [
    {
     "data": {
      "text/plain": [
       "array([ 3.28689818,  0.93551626,  3.58354144, -6.91660796])"
      ]
     },
     "execution_count": 123,
     "metadata": {},
     "output_type": "execute_result"
    }
   ],
   "source": [
    "ridge_reg.coef_"
   ]
  },
  {
   "cell_type": "code",
   "execution_count": 133,
   "id": "3a297421",
   "metadata": {},
   "outputs": [
    {
     "name": "stdout",
     "output_type": "stream",
     "text": [
      "-1252.9185210612904\n",
      "-1259.4393936449649\n",
      "-1255.0534769439362\n",
      "-1255.0534769439362\n"
     ]
    }
   ],
   "source": [
    "x_switch = modifiedshenzhen[['Adj Close','Open','Daily Change', 'High Low Difference']]\n",
    "y_switch = modifiedshanghai['Adj Close']\n",
    "print(lasso_reg.score(x_switch, y_switch))\n",
    "\n",
    "print(ridge_reg.score(x_switch, y_switch))\n",
    "\n",
    "print(pred_testswitch = LinReg.score(x_switch,y_switch))\n"
   ]
  },
  {
   "cell_type": "code",
   "execution_count": 142,
   "id": "9a3a9eab",
   "metadata": {},
   "outputs": [
    {
     "name": "stdout",
     "output_type": "stream",
     "text": [
      "0.9268572607043017\n",
      "0.9361163387482343\n"
     ]
    }
   ],
   "source": [
    "# to test how the model works when trained on old data\n",
    "oldshanghai = modifiedshanghai.iloc[:-2880]\n",
    "oldshenzhen = modifiedshenzhen.iloc[:-2880]\n",
    "\n",
    "modernshenzhen = modifiedshenzhen.iloc[2880:]\n",
    "x_old = oldshenzhen[['Adj Close','Open','Daily Change', 'High Low Difference']]\n",
    "y_old = oldshanghai['Adj Close']\n",
    "\n",
    "x_old_train, x_old_test, y_old_train, y_old_test = train_test_split(x_old, y_old, test_size = 0.2)\n",
    "\n",
    "lasso_reg_old = linear_model.Lasso(alpha=50, max_iter=100, tol=0.1)\n",
    "lasso_reg_old.fit(x_old_train, y_old_train)\n",
    "print(lasso_reg_old.score(x_old_test, y_old_test))\n",
    "print(lasso_reg_old.score(x_old_train, y_old_train))\n",
    "\n",
    "print(lasso_reg_old.score)"
   ]
  },
  {
   "cell_type": "code",
   "execution_count": 119,
   "id": "cb305264",
   "metadata": {},
   "outputs": [
    {
     "ename": "ValueError",
     "evalue": "x and y must be the same size",
     "output_type": "error",
     "traceback": [
      "\u001b[0;31m---------------------------------------------------------------------------\u001b[0m",
      "\u001b[0;31mValueError\u001b[0m                                Traceback (most recent call last)",
      "Input \u001b[0;32mIn [119]\u001b[0m, in \u001b[0;36m<cell line: 18>\u001b[0;34m()\u001b[0m\n\u001b[1;32m     15\u001b[0m X_vals_poly \u001b[38;5;241m=\u001b[39m poly\u001b[38;5;241m.\u001b[39mfit_transform(x_train)\n\u001b[1;32m     16\u001b[0m y_vals \u001b[38;5;241m=\u001b[39m reg\u001b[38;5;241m.\u001b[39mpredict(x_train)\n\u001b[0;32m---> 18\u001b[0m \u001b[43mplt\u001b[49m\u001b[38;5;241;43m.\u001b[39;49m\u001b[43mscatter\u001b[49m\u001b[43m(\u001b[49m\u001b[43mx_train\u001b[49m\u001b[43m,\u001b[49m\u001b[43m \u001b[49m\u001b[43my_train\u001b[49m\u001b[43m)\u001b[49m\n\u001b[1;32m     19\u001b[0m plt\u001b[38;5;241m.\u001b[39mplt(X_vals_poly, y_vals)\n\u001b[1;32m     20\u001b[0m plt\u001b[38;5;241m.\u001b[39mshow()\n",
      "File \u001b[0;32m~/opt/anaconda3/lib/python3.9/site-packages/matplotlib/pyplot.py:2807\u001b[0m, in \u001b[0;36mscatter\u001b[0;34m(x, y, s, c, marker, cmap, norm, vmin, vmax, alpha, linewidths, edgecolors, plotnonfinite, data, **kwargs)\u001b[0m\n\u001b[1;32m   2802\u001b[0m \u001b[38;5;129m@_copy_docstring_and_deprecators\u001b[39m(Axes\u001b[38;5;241m.\u001b[39mscatter)\n\u001b[1;32m   2803\u001b[0m \u001b[38;5;28;01mdef\u001b[39;00m \u001b[38;5;21mscatter\u001b[39m(\n\u001b[1;32m   2804\u001b[0m         x, y, s\u001b[38;5;241m=\u001b[39m\u001b[38;5;28;01mNone\u001b[39;00m, c\u001b[38;5;241m=\u001b[39m\u001b[38;5;28;01mNone\u001b[39;00m, marker\u001b[38;5;241m=\u001b[39m\u001b[38;5;28;01mNone\u001b[39;00m, cmap\u001b[38;5;241m=\u001b[39m\u001b[38;5;28;01mNone\u001b[39;00m, norm\u001b[38;5;241m=\u001b[39m\u001b[38;5;28;01mNone\u001b[39;00m,\n\u001b[1;32m   2805\u001b[0m         vmin\u001b[38;5;241m=\u001b[39m\u001b[38;5;28;01mNone\u001b[39;00m, vmax\u001b[38;5;241m=\u001b[39m\u001b[38;5;28;01mNone\u001b[39;00m, alpha\u001b[38;5;241m=\u001b[39m\u001b[38;5;28;01mNone\u001b[39;00m, linewidths\u001b[38;5;241m=\u001b[39m\u001b[38;5;28;01mNone\u001b[39;00m, \u001b[38;5;241m*\u001b[39m,\n\u001b[1;32m   2806\u001b[0m         edgecolors\u001b[38;5;241m=\u001b[39m\u001b[38;5;28;01mNone\u001b[39;00m, plotnonfinite\u001b[38;5;241m=\u001b[39m\u001b[38;5;28;01mFalse\u001b[39;00m, data\u001b[38;5;241m=\u001b[39m\u001b[38;5;28;01mNone\u001b[39;00m, \u001b[38;5;241m*\u001b[39m\u001b[38;5;241m*\u001b[39mkwargs):\n\u001b[0;32m-> 2807\u001b[0m     __ret \u001b[38;5;241m=\u001b[39m \u001b[43mgca\u001b[49m\u001b[43m(\u001b[49m\u001b[43m)\u001b[49m\u001b[38;5;241;43m.\u001b[39;49m\u001b[43mscatter\u001b[49m\u001b[43m(\u001b[49m\n\u001b[1;32m   2808\u001b[0m \u001b[43m        \u001b[49m\u001b[43mx\u001b[49m\u001b[43m,\u001b[49m\u001b[43m \u001b[49m\u001b[43my\u001b[49m\u001b[43m,\u001b[49m\u001b[43m \u001b[49m\u001b[43ms\u001b[49m\u001b[38;5;241;43m=\u001b[39;49m\u001b[43ms\u001b[49m\u001b[43m,\u001b[49m\u001b[43m \u001b[49m\u001b[43mc\u001b[49m\u001b[38;5;241;43m=\u001b[39;49m\u001b[43mc\u001b[49m\u001b[43m,\u001b[49m\u001b[43m \u001b[49m\u001b[43mmarker\u001b[49m\u001b[38;5;241;43m=\u001b[39;49m\u001b[43mmarker\u001b[49m\u001b[43m,\u001b[49m\u001b[43m \u001b[49m\u001b[43mcmap\u001b[49m\u001b[38;5;241;43m=\u001b[39;49m\u001b[43mcmap\u001b[49m\u001b[43m,\u001b[49m\u001b[43m \u001b[49m\u001b[43mnorm\u001b[49m\u001b[38;5;241;43m=\u001b[39;49m\u001b[43mnorm\u001b[49m\u001b[43m,\u001b[49m\n\u001b[1;32m   2809\u001b[0m \u001b[43m        \u001b[49m\u001b[43mvmin\u001b[49m\u001b[38;5;241;43m=\u001b[39;49m\u001b[43mvmin\u001b[49m\u001b[43m,\u001b[49m\u001b[43m \u001b[49m\u001b[43mvmax\u001b[49m\u001b[38;5;241;43m=\u001b[39;49m\u001b[43mvmax\u001b[49m\u001b[43m,\u001b[49m\u001b[43m \u001b[49m\u001b[43malpha\u001b[49m\u001b[38;5;241;43m=\u001b[39;49m\u001b[43malpha\u001b[49m\u001b[43m,\u001b[49m\u001b[43m \u001b[49m\u001b[43mlinewidths\u001b[49m\u001b[38;5;241;43m=\u001b[39;49m\u001b[43mlinewidths\u001b[49m\u001b[43m,\u001b[49m\n\u001b[1;32m   2810\u001b[0m \u001b[43m        \u001b[49m\u001b[43medgecolors\u001b[49m\u001b[38;5;241;43m=\u001b[39;49m\u001b[43medgecolors\u001b[49m\u001b[43m,\u001b[49m\u001b[43m \u001b[49m\u001b[43mplotnonfinite\u001b[49m\u001b[38;5;241;43m=\u001b[39;49m\u001b[43mplotnonfinite\u001b[49m\u001b[43m,\u001b[49m\n\u001b[1;32m   2811\u001b[0m \u001b[43m        \u001b[49m\u001b[38;5;241;43m*\u001b[39;49m\u001b[38;5;241;43m*\u001b[39;49m\u001b[43m(\u001b[49m\u001b[43m{\u001b[49m\u001b[38;5;124;43m\"\u001b[39;49m\u001b[38;5;124;43mdata\u001b[39;49m\u001b[38;5;124;43m\"\u001b[39;49m\u001b[43m:\u001b[49m\u001b[43m \u001b[49m\u001b[43mdata\u001b[49m\u001b[43m}\u001b[49m\u001b[43m \u001b[49m\u001b[38;5;28;43;01mif\u001b[39;49;00m\u001b[43m \u001b[49m\u001b[43mdata\u001b[49m\u001b[43m \u001b[49m\u001b[38;5;129;43;01mis\u001b[39;49;00m\u001b[43m \u001b[49m\u001b[38;5;129;43;01mnot\u001b[39;49;00m\u001b[43m \u001b[49m\u001b[38;5;28;43;01mNone\u001b[39;49;00m\u001b[43m \u001b[49m\u001b[38;5;28;43;01melse\u001b[39;49;00m\u001b[43m \u001b[49m\u001b[43m{\u001b[49m\u001b[43m}\u001b[49m\u001b[43m)\u001b[49m\u001b[43m,\u001b[49m\u001b[43m \u001b[49m\u001b[38;5;241;43m*\u001b[39;49m\u001b[38;5;241;43m*\u001b[39;49m\u001b[43mkwargs\u001b[49m\u001b[43m)\u001b[49m\n\u001b[1;32m   2812\u001b[0m     sci(__ret)\n\u001b[1;32m   2813\u001b[0m     \u001b[38;5;28;01mreturn\u001b[39;00m __ret\n",
      "File \u001b[0;32m~/opt/anaconda3/lib/python3.9/site-packages/matplotlib/__init__.py:1412\u001b[0m, in \u001b[0;36m_preprocess_data.<locals>.inner\u001b[0;34m(ax, data, *args, **kwargs)\u001b[0m\n\u001b[1;32m   1409\u001b[0m \u001b[38;5;129m@functools\u001b[39m\u001b[38;5;241m.\u001b[39mwraps(func)\n\u001b[1;32m   1410\u001b[0m \u001b[38;5;28;01mdef\u001b[39;00m \u001b[38;5;21minner\u001b[39m(ax, \u001b[38;5;241m*\u001b[39margs, data\u001b[38;5;241m=\u001b[39m\u001b[38;5;28;01mNone\u001b[39;00m, \u001b[38;5;241m*\u001b[39m\u001b[38;5;241m*\u001b[39mkwargs):\n\u001b[1;32m   1411\u001b[0m     \u001b[38;5;28;01mif\u001b[39;00m data \u001b[38;5;129;01mis\u001b[39;00m \u001b[38;5;28;01mNone\u001b[39;00m:\n\u001b[0;32m-> 1412\u001b[0m         \u001b[38;5;28;01mreturn\u001b[39;00m \u001b[43mfunc\u001b[49m\u001b[43m(\u001b[49m\u001b[43max\u001b[49m\u001b[43m,\u001b[49m\u001b[43m \u001b[49m\u001b[38;5;241;43m*\u001b[39;49m\u001b[38;5;28;43mmap\u001b[39;49m\u001b[43m(\u001b[49m\u001b[43msanitize_sequence\u001b[49m\u001b[43m,\u001b[49m\u001b[43m \u001b[49m\u001b[43margs\u001b[49m\u001b[43m)\u001b[49m\u001b[43m,\u001b[49m\u001b[43m \u001b[49m\u001b[38;5;241;43m*\u001b[39;49m\u001b[38;5;241;43m*\u001b[39;49m\u001b[43mkwargs\u001b[49m\u001b[43m)\u001b[49m\n\u001b[1;32m   1414\u001b[0m     bound \u001b[38;5;241m=\u001b[39m new_sig\u001b[38;5;241m.\u001b[39mbind(ax, \u001b[38;5;241m*\u001b[39margs, \u001b[38;5;241m*\u001b[39m\u001b[38;5;241m*\u001b[39mkwargs)\n\u001b[1;32m   1415\u001b[0m     auto_label \u001b[38;5;241m=\u001b[39m (bound\u001b[38;5;241m.\u001b[39marguments\u001b[38;5;241m.\u001b[39mget(label_namer)\n\u001b[1;32m   1416\u001b[0m                   \u001b[38;5;129;01mor\u001b[39;00m bound\u001b[38;5;241m.\u001b[39mkwargs\u001b[38;5;241m.\u001b[39mget(label_namer))\n",
      "File \u001b[0;32m~/opt/anaconda3/lib/python3.9/site-packages/matplotlib/axes/_axes.py:4369\u001b[0m, in \u001b[0;36mAxes.scatter\u001b[0;34m(self, x, y, s, c, marker, cmap, norm, vmin, vmax, alpha, linewidths, edgecolors, plotnonfinite, **kwargs)\u001b[0m\n\u001b[1;32m   4367\u001b[0m y \u001b[38;5;241m=\u001b[39m np\u001b[38;5;241m.\u001b[39mma\u001b[38;5;241m.\u001b[39mravel(y)\n\u001b[1;32m   4368\u001b[0m \u001b[38;5;28;01mif\u001b[39;00m x\u001b[38;5;241m.\u001b[39msize \u001b[38;5;241m!=\u001b[39m y\u001b[38;5;241m.\u001b[39msize:\n\u001b[0;32m-> 4369\u001b[0m     \u001b[38;5;28;01mraise\u001b[39;00m \u001b[38;5;167;01mValueError\u001b[39;00m(\u001b[38;5;124m\"\u001b[39m\u001b[38;5;124mx and y must be the same size\u001b[39m\u001b[38;5;124m\"\u001b[39m)\n\u001b[1;32m   4371\u001b[0m \u001b[38;5;28;01mif\u001b[39;00m s \u001b[38;5;129;01mis\u001b[39;00m \u001b[38;5;28;01mNone\u001b[39;00m:\n\u001b[1;32m   4372\u001b[0m     s \u001b[38;5;241m=\u001b[39m (\u001b[38;5;241m20\u001b[39m \u001b[38;5;28;01mif\u001b[39;00m rcParams[\u001b[38;5;124m'\u001b[39m\u001b[38;5;124m_internal.classic_mode\u001b[39m\u001b[38;5;124m'\u001b[39m] \u001b[38;5;28;01melse\u001b[39;00m\n\u001b[1;32m   4373\u001b[0m          rcParams[\u001b[38;5;124m'\u001b[39m\u001b[38;5;124mlines.markersize\u001b[39m\u001b[38;5;124m'\u001b[39m] \u001b[38;5;241m*\u001b[39m\u001b[38;5;241m*\u001b[39m \u001b[38;5;241m2.0\u001b[39m)\n",
      "\u001b[0;31mValueError\u001b[0m: x and y must be the same size"
     ]
    },
    {
     "data": {
      "image/png": "[encoded data removed]",
      "text/plain": [
       "<Figure size 432x288 with 1 Axes>"
      ]
     },
     "metadata": {
      "needs_background": "light"
     },
     "output_type": "display_data"
    }
   ],
   "source": [
    "from sklearn.preprocessing import PolynomialFeatures\n",
    "from sklearn.linear_model import LinearRegression\n",
    "\n",
    "poly = PolynomialFeatures(degree = 2)\n",
    "\n",
    "# x_train_poly, x_test_poly = poly.fit_transform(x_train), poly.fit_transform(x_test)\n",
    "\n",
    "\n",
    "\n",
    "model= linear_model.LinearRegression()\n",
    "reg = model.fit(x_train, y_train)\n",
    "coefficient = model.coef_\n",
    "intercept = model.intercept_\n",
    "\n",
    "X_vals_poly = poly.fit_transform(x_train)\n",
    "y_vals = reg.predict(x_train)\n",
    "\n",
    "plt.scatter(x_train, y_train)\n",
    "plt.plt(X_vals_poly, y_vals)\n",
    "plt.show()"
   ]
  }
 ],
 "metadata": {
  "kernelspec": {
   "display_name": "Python 3 (ipykernel)",
   "language": "python",
   "name": "python3"
  },
  "language_info": {
   "codemirror_mode": {
    "name": "ipython",
    "version": 3
   },
   "file_extension": ".py",
   "mimetype": "text/x-python",
   "name": "python",
   "nbconvert_exporter": "python",
   "pygments_lexer": "ipython3",
   "version": "3.9.12"
  }
 },
 "nbformat": 4,
 "nbformat_minor": 5
}
