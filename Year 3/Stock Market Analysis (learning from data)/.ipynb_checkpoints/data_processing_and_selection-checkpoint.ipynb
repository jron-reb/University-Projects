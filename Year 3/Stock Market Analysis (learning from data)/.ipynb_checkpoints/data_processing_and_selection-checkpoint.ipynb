{
 "cells": [
  {
   "cell_type": "code",
   "execution_count": 1,
   "id": "f32cfed3",
   "metadata": {},
   "outputs": [],
   "source": [
    "%matplotlib inline\n",
    "import numpy as np\n",
    "import pandas as pd\n",
    "import matplotlib.pyplot as plt\n",
    "import seaborn as sns"
   ]
  },
  {
   "cell_type": "code",
   "execution_count": 2,
   "id": "b308a9c9",
   "metadata": {},
   "outputs": [],
   "source": [
    "df= pd.read_csv('stock_exchange_data/indexProcessed.csv')"
   ]
  },
  {
   "cell_type": "code",
   "execution_count": 3,
   "id": "6811b0e7",
   "metadata": {},
   "outputs": [],
   "source": [
    "#df1 = df[df['Position'].str.contains(\"HSI\")]\n",
    "nyse = df[df['Index'].str.contains(\"NYA\")]\n",
    "nasdaq = df[df['Index'].str.contains(\"IXIC\")]\n",
    "toronto = df[df['Index'].str.contains(\"GSPTSE\")]\n",
    "\n",
    "shenzhen = df[df['Index'].str.contains(\"399001.SZ\")]\n",
    "shanghai = df[df['Index'].str.contains(\"000001.SS\")]\n",
    "hongkong = df[df['Index'].str.contains(\"HSI\")]\n",
    "taiwan = df[df['Index'].str.contains(\"TWII\")]"
   ]
  },
  {
   "cell_type": "code",
   "execution_count": 4,
   "id": "a471e1d6",
   "metadata": {},
   "outputs": [],
   "source": [
    "def combinedasia(columnname):\n",
    "    hongkonglist = []\n",
    "    shenzhenlist = []\n",
    "    shanghailist = []\n",
    "    taiwanlist = []\n",
    "    for index in hongkong.index:\n",
    "        hongkonglist.append(hongkong[columnname][index])\n",
    "    \n",
    "    for index in shenzhen.index:\n",
    "        shenzhenlist.append(shenzhen[columnname][index])\n",
    "\n",
    "    while len(shenzhenlist)<len(hongkonglist):\n",
    "        shenzhenlist.append(0)\n",
    "\n",
    "    for index in shanghai.index:\n",
    "        shanghailist.append(shanghai[columnname][index])\n",
    "    \n",
    "    while len(shanghailist)<len(hongkonglist):\n",
    "        shanghailist.append(0)\n",
    "\n",
    "    for index in taiwan.index:\n",
    "        taiwanlist.append(taiwan[columnname][index])\n",
    "\n",
    "    while len(taiwanlist)<len(hongkonglist):\n",
    "        taiwanlist.append(0)\n",
    "        \n",
    "    temp = pd.DataFrame()\n",
    "    temp[columnname + 'hongkong'] = hongkonglist\n",
    "    temp[columnname + 'shenzhen'] = shenzhenlist\n",
    "    temp[columnname + 'shanghai'] = shanghailist\n",
    "    temp[columnname + 'taiwan'] = taiwanlist\n",
    "    return temp\n",
    "\n",
    "def combinedamerica(columnname):\n",
    "    nyselist = []\n",
    "    nasdaqlist = []\n",
    "    torontolist = []\n",
    "    for index in nyse.index:\n",
    "        nyselist.append(nyse[columnname][index])\n",
    "    for index in nasdaq.index:\n",
    "        nasdaqlist.append(nasdaq[columnname][index])\n",
    "        \n",
    "    while len(nasdaqlist) < len(nyselist):\n",
    "        nasdaqlist.append(0)\n",
    "    \n",
    "    for index in toronto.index:\n",
    "        torontolist.append(toronto[columnname][index])\n",
    "        \n",
    "    while len(torontolist) < len(nyselist):\n",
    "        torontolist.append(0)\n",
    "    \n",
    "    temp = pd.DataFrame()\n",
    "    temp[columnname + 'nyse'] = nyselist\n",
    "    temp[columnname + 'nasdaq'] = nasdaqlist\n",
    "    temp[columnname + 'toronto'] = torontolist\n",
    "    return temp"
   ]
  },
  {
   "cell_type": "code",
   "execution_count": null,
   "id": "2fa36249",
   "metadata": {},
   "outputs": [
    {
     "name": "stdout",
     "output_type": "stream",
     "text": [
      "      Volumehongkong  Volumeshenzhen  Volumeshanghai  Volumetaiwan\n",
      "0       0.000000e+00             0.0             0.0           0.0\n",
      "1       0.000000e+00             0.0             0.0           0.0\n",
      "2       0.000000e+00             0.0             0.0           0.0\n",
      "3       0.000000e+00             0.0             0.0           0.0\n",
      "4       0.000000e+00             0.0             0.0           0.0\n",
      "...              ...             ...             ...           ...\n",
      "8487    2.352078e+09             0.0             0.0           0.0\n",
      "8488    2.518538e+09             0.0             0.0           0.0\n",
      "8489    3.804955e+09             0.0             0.0           0.0\n",
      "8490    2.591560e+09             0.0             0.0           0.0\n",
      "8491    2.188581e+09             0.0             0.0           0.0\n",
      "\n",
      "[8492 rows x 4 columns]\n"
     ]
    },
    {
     "data": {
      "text/plain": [
       "<seaborn.axisgrid.PairGrid at 0x7f821c0a66d0>"
      ]
     },
     "execution_count": 5,
     "metadata": {},
     "output_type": "execute_result"
    }
   ],
   "source": [
    "combinedasiavolume = combinedasia('Volume')\n",
    "print(combinedasiavolume)\n",
    "sns.pairplot(combinedasiavolume)\n",
    "# allows me to compare and potentiallly show correlation between variables"
   ]
  },
  {
   "cell_type": "code",
   "execution_count": null,
   "id": "92734e9d",
   "metadata": {},
   "outputs": [],
   "source": [
    "combinedamericavolume = combinedamerica('Volume')\n",
    "sns.pairplot(combinedamericavolume)"
   ]
  },
  {
   "cell_type": "code",
   "execution_count": null,
   "id": "1e0e4c25",
   "metadata": {},
   "outputs": [],
   "source": [
    "# open, high, low, close, adj close, volume\n",
    "combinedasiaOpen = combinedasia('Open')\n",
    "sns.pairplot(combinedasiaOpen)"
   ]
  },
  {
   "cell_type": "code",
   "execution_count": null,
   "id": "71beb681",
   "metadata": {},
   "outputs": [],
   "source": [
    "combinedAsiaHigh = combinedasia('High')\n",
    "sns.pairplot(combinedAsiaHigh)"
   ]
  },
  {
   "cell_type": "code",
   "execution_count": null,
   "id": "c9f206a3",
   "metadata": {},
   "outputs": [],
   "source": [
    "combinedAsiaLow = combinedasia('Low')\n",
    "sns.pairplot(combinedAsiaLow)"
   ]
  },
  {
   "cell_type": "code",
   "execution_count": null,
   "id": "3beb1c88",
   "metadata": {},
   "outputs": [],
   "source": [
    "combinedAsiaClose = combinedasia('Close')\n",
    "sns.pairplot(combinedAsiaClose)"
   ]
  },
  {
   "cell_type": "code",
   "execution_count": null,
   "id": "02ab77b2",
   "metadata": {},
   "outputs": [],
   "source": [
    "combinedAsiaAjdClose = combinedasia('Adj Close')\n",
    "sns.pairplot(combinedAsiaAjdClose)"
   ]
  },
  {
   "cell_type": "code",
   "execution_count": null,
   "id": "f1f2614e",
   "metadata": {},
   "outputs": [],
   "source": [
    "combinedamericaOpen = combinedamerica('Open')\n",
    "sns.pairplot(combinedasiaOpen)"
   ]
  },
  {
   "cell_type": "code",
   "execution_count": null,
   "id": "bd274f17",
   "metadata": {},
   "outputs": [],
   "source": [
    "combinedamericaHigh = combinedamerica('High')\n",
    "sns.pairplot(combinedamericaHigh)"
   ]
  },
  {
   "cell_type": "code",
   "execution_count": null,
   "id": "140662ca",
   "metadata": {},
   "outputs": [],
   "source": [
    "combinedamericaLow = combinedamerica('Low')\n",
    "sns.pairplot(combinedamericaLow)"
   ]
  },
  {
   "cell_type": "code",
   "execution_count": null,
   "id": "bfe6c53b",
   "metadata": {},
   "outputs": [],
   "source": [
    "combinedamericaClose = combinedamerica('Close')\n",
    "sns.pairplot(combinedamericaClose)"
   ]
  },
  {
   "cell_type": "code",
   "execution_count": null,
   "id": "c2ecf35f",
   "metadata": {},
   "outputs": [],
   "source": [
    "combinedamericaAjdClose = combinedamerica('Adj Close')\n",
    "sns.pairplot(combinedamericaAjdClose)"
   ]
  }
 ],
 "metadata": {
  "kernelspec": {
   "display_name": "Python 3 (ipykernel)",
   "language": "python",
   "name": "python3"
  },
  "language_info": {
   "codemirror_mode": {
    "name": "ipython",
    "version": 3
   },
   "file_extension": ".py",
   "mimetype": "text/x-python",
   "name": "python",
   "nbconvert_exporter": "python",
   "pygments_lexer": "ipython3",
   "version": "3.9.12"
  }
 },
 "nbformat": 4,
 "nbformat_minor": 5
}
